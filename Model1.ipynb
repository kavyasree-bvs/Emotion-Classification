{
 "cells": [
  {
   "cell_type": "code",
   "execution_count": 1,
   "metadata": {},
   "outputs": [],
   "source": [
    "import csv\n",
    "from matplotlib import pyplot as plt\n",
    "import numpy as np\n",
    "\n",
    "reshape_size = (48,48)\n",
    "def GetData(filename):\n",
    "    X = []\n",
    "    Y = []\n",
    "    with open(filename) as csv_file:\n",
    "        f = 0\n",
    "        csv_reader = csv.reader(csv_file, delimiter=',')\n",
    "        for row in csv_reader:\n",
    "            if f == 0 :\n",
    "                print(row)\n",
    "                f = 1\n",
    "            elif f == 1:\n",
    "                pixels = np.fromstring(row[1], dtype=int, sep=' ')\n",
    "                pixels = pixels.reshape( reshape_size )\n",
    "                emotion = int(row[0])\n",
    "\n",
    "                X.append(pixels)\n",
    "                Y.append(emotion)\n",
    "    return [X,Y]"
   ]
  },
  {
   "cell_type": "code",
   "execution_count": 2,
   "metadata": {},
   "outputs": [
    {
     "name": "stdout",
     "output_type": "stream",
     "text": [
      "['emotion', 'pixels']\n",
      "Train data shape: (28709, 48, 48) (28709,)\n"
     ]
    }
   ],
   "source": [
    "[train_X, train_Y] = GetData('Train_Data.csv')\n",
    "train_X = np.array(train_X)\n",
    "train_Y = np.array(train_Y)\n",
    "\n",
    "print('Train data shape:',train_X.shape, train_Y.shape)"
   ]
  },
  {
   "cell_type": "code",
   "execution_count": 3,
   "metadata": {},
   "outputs": [
    {
     "name": "stdout",
     "output_type": "stream",
     "text": [
      "['emotion', 'pixels']\n",
      "Validation data shape: (3589, 48, 48) (3589,)\n"
     ]
    }
   ],
   "source": [
    "[validation_X, validation_Y] = GetData('Validation_Data.csv')\n",
    "validation_X = np.array(validation_X)\n",
    "validation_Y = np.array(validation_Y)\n",
    "\n",
    "print('Validation data shape:',validation_X.shape, validation_Y.shape)"
   ]
  },
  {
   "cell_type": "code",
   "execution_count": 4,
   "metadata": {},
   "outputs": [
    {
     "name": "stdout",
     "output_type": "stream",
     "text": [
      "['emotion', 'pixels']\n",
      "Test data shape: (3589, 48, 48) (3589,)\n"
     ]
    }
   ],
   "source": [
    "[test_X, test_Y] = GetData('Test_Data.csv')\n",
    "test_X = np.array(test_X)\n",
    "test_Y = np.array(test_Y)\n",
    "\n",
    "print('Test data shape:',test_X.shape, test_Y.shape)"
   ]
  },
  {
   "cell_type": "code",
   "execution_count": 5,
   "metadata": {},
   "outputs": [
    {
     "data": {
      "image/png": "[encoded data removed]",
      "text/plain": [
       "<Figure size 432x288 with 1 Axes>"
      ]
     },
     "metadata": {
      "needs_background": "light"
     },
     "output_type": "display_data"
    }
   ],
   "source": [
    "\n",
    "plt.figure(0)\n",
    "plt.imshow(train_X[2000], cmap = 'gray')\n",
    "plt.show()"
   ]
  },
  {
   "cell_type": "code",
   "execution_count": 6,
   "metadata": {},
   "outputs": [
    {
     "data": {
      "image/png": "[encoded data removed]",
      "text/plain": [
       "<Figure size 432x288 with 1 Axes>"
      ]
     },
     "metadata": {
      "needs_background": "light"
     },
     "output_type": "display_data"
    }
   ],
   "source": [
    "plt.figure(1)\n",
    "plt.imshow(validation_X[20], cmap = 'gray')\n",
    "plt.show()"
   ]
  },
  {
   "cell_type": "code",
   "execution_count": 7,
   "metadata": {},
   "outputs": [
    {
     "data": {
      "image/png": "[encoded data removed]",
      "text/plain": [
       "<Figure size 432x288 with 1 Axes>"
      ]
     },
     "metadata": {
      "needs_background": "light"
     },
     "output_type": "display_data"
    }
   ],
   "source": [
    "plt.figure(2)\n",
    "plt.imshow(test_X[10], cmap = 'gray')\n",
    "plt.show()"
   ]
  },
  {
   "cell_type": "code",
   "execution_count": 8,
   "metadata": {},
   "outputs": [],
   "source": [
    "def ChangeTo4D(data):\n",
    "    ip_shape = data.shape\n",
    "    ip_shape += (1,)\n",
    "\n",
    "    data_4d = np.zeros(ip_shape)\n",
    "    data_4d[..., 0] = data\n",
    "\n",
    "    print(data_4d.shape)\n",
    "    print(data_4d[0].shape)\n",
    "    return data_4d"
   ]
  },
  {
   "cell_type": "code",
   "execution_count": 9,
   "metadata": {},
   "outputs": [
    {
     "name": "stdout",
     "output_type": "stream",
     "text": [
      "(28709, 48, 48, 1)\n",
      "(48, 48, 1)\n",
      "(3589, 48, 48, 1)\n",
      "(48, 48, 1)\n",
      "(3589, 48, 48, 1)\n",
      "(48, 48, 1)\n"
     ]
    }
   ],
   "source": [
    "train_X_4d = ChangeTo4D(train_X)\n",
    "validation_X_4d = ChangeTo4D(validation_X)\n",
    "test_X_4d = ChangeTo4D(test_X)"
   ]
  },
  {
   "cell_type": "code",
   "execution_count": 11,
   "metadata": {},
   "outputs": [
    {
     "name": "stderr",
     "output_type": "stream",
     "text": [
      "Using TensorFlow backend.\n"
     ]
    }
   ],
   "source": [
    "import keras\n",
    "from keras.models import Sequential,Input,Model\n",
    "from keras.layers import Dense, Dropout, Flatten\n",
    "from keras.layers import Conv2D, MaxPooling2D\n",
    "from keras.layers.normalization import BatchNormalization\n",
    "from keras.layers.advanced_activations import LeakyReLU"
   ]
  },
  {
   "cell_type": "code",
   "execution_count": 12,
   "metadata": {},
   "outputs": [],
   "source": [
    "test_Y_one_hot_encoding = keras.utils.to_categorical(test_Y);\n",
    "train_Y_one_hot_encoding = keras.utils.to_categorical(train_Y);\n",
    "validation_Y_one_hot_encoding = keras.utils.to_categorical(validation_Y);"
   ]
  },
  {
   "cell_type": "code",
   "execution_count": 13,
   "metadata": {},
   "outputs": [
    {
     "name": "stdout",
     "output_type": "stream",
     "text": [
      "(200, 48, 48, 1)\n"
     ]
    }
   ],
   "source": [
    "\n",
    "temp_data = train_X_4d[:200]\n",
    "print(temp_data.shape)"
   ]
  }
 ],
 "metadata": {
  "kernelspec": {
   "display_name": "Python 3",
   "language": "python",
   "name": "python3"
  },
  "language_info": {
   "codemirror_mode": {
    "name": "ipython",
    "version": 3
   },
   "file_extension": ".py",
   "mimetype": "text/x-python",
   "name": "python",
   "nbconvert_exporter": "python",
   "pygments_lexer": "ipython3",
   "version": "3.6.8"
  }
 },
 "nbformat": 4,
 "nbformat_minor": 2
}
